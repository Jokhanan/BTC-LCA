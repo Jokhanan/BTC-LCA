{
 "cells": [
  {
   "cell_type": "markdown",
   "metadata": {},
   "source": [
    "# LCA of Bitcoin Mining (attributional model)"
   ]
  },
  {
   "cell_type": "markdown",
   "metadata": {},
   "source": [
    "Initial set up"
   ]
  },
  {
   "cell_type": "code",
   "execution_count": null,
   "metadata": {},
   "outputs": [],
   "source": [
    "import pandas as pd\n",
    "import numpy as np\n",
    "from lci_to_bw2 import *\n",
    "from brightway2 import *\n",
    "from matplotlib import pyplot as plt\n",
    "import time\n",
    "when = time.strftime(\"%Y%m%d\")"
   ]
  },
  {
   "cell_type": "code",
   "execution_count": null,
   "metadata": {},
   "outputs": [],
   "source": [
    "projects.set_current('BTC_Att_LCA') "
   ]
  },
  {
   "cell_type": "code",
   "execution_count": null,
   "metadata": {
    "scrolled": false
   },
   "outputs": [],
   "source": [
    "projects"
   ]
  },
  {
   "cell_type": "code",
   "execution_count": null,
   "metadata": {},
   "outputs": [],
   "source": [
    "#upload APOS attributional ecoinvent v3.5 database (& change directory to find the file on your computer)\n",
    "fpei34  = \"/Users/susanne/Documents/O1a/Databases/Ecoinvent_att_3.5/datasets\"\n",
    " \n",
    "if 'ecoinvent 3.5 att' in databases:\n",
    "     print(\"Database has already been imported\")\n",
    "else:\n",
    "     ei34 = SingleOutputEcospold2Importer(fpei34, 'ecoinvent 3.5 att')\n",
    "     ei34.apply_strategies()\n",
    "     ei34.statistics()\n",
    " \n",
    "ei34.write_database()"
   ]
  },
  {
   "cell_type": "code",
   "execution_count": null,
   "metadata": {},
   "outputs": [],
   "source": [
    "bw2setup() #do this if its the first time only"
   ]
  },
  {
   "cell_type": "code",
   "execution_count": null,
   "metadata": {
    "scrolled": true
   },
   "outputs": [],
   "source": [
    "databases"
   ]
  },
  {
   "cell_type": "markdown",
   "metadata": {},
   "source": [
    "## Data import"
   ]
  },
  {
   "cell_type": "markdown",
   "metadata": {},
   "source": [
    "Now import the inventory. This has to be done for each model. From here all steps - with the execption of the Monte Carlo simulation - have to be **repeated for the attributional baseline model and all models in the sensitivity anaylsis**.\n",
    "\n",
    "This means:\n",
    "1. upload sceanrio the attributional baseline model\n",
    "2. carry out the LCA and the Monte Carlo simulation for the attributional baseline model\n",
    "3. upload the sensitivity model +10% electricity\n",
    "4. carry out the LCA for +10% electricity\n",
    "5. upload the sensitivity model -10% electricity\n",
    "6. carry out the LCA for -10% electricity\n",
    "and so on."
   ]
  },
  {
   "cell_type": "code",
   "execution_count": null,
   "metadata": {
    "scrolled": true
   },
   "outputs": [],
   "source": [
    "#change name of file depending on which model is to be run\n",
    "BTC_att_data = pd.read_csv('Attributional_model.csv', header = 0, sep = \";\", encoding = 'utf-8-sig') \n",
    "\n",
    "# clean up \n",
    "BTC_att_data = BTC_att_data.drop(['Notes'], 1)  # remove the columns not needed\n",
    "BTC_att_data['Exchange uncertainty type'] = BTC_att_data['Exchange uncertainty type'].fillna(0).astype(int) \n",
    "\n",
    "print(BTC_att_data.head())\n",
    "print(BTC_att_data.tail())  "
   ]
  },
  {
   "cell_type": "code",
   "execution_count": null,
   "metadata": {},
   "outputs": [],
   "source": [
    "# Create a dict that can be written as database\n",
    "BTC_att_dict = lci_to_bw2(BTC_att_data) # Perfect.\n",
    "BTC_att_dict"
   ]
  },
  {
   "cell_type": "code",
   "execution_count": null,
   "metadata": {},
   "outputs": [],
   "source": [
    "# Write a bw2 database\n",
    "databases\n",
    "if 'BTC_att' in databases: del databases['BTC_att']\n",
    "BTC_att = Database(\"BTC_att\")\n",
    "BTC_att.write(BTC_att_dict)\n",
    "[print(act) for act in BTC_att]"
   ]
  },
  {
   "cell_type": "markdown",
   "metadata": {},
   "source": [
    "## Static LCA"
   ]
  },
  {
   "cell_type": "markdown",
   "metadata": {},
   "source": [
    "Now these steps are related to carrying out the LCA. The steps are always conducted on the latest .csv inventory uploaded!"
   ]
  },
  {
   "cell_type": "code",
   "execution_count": null,
   "metadata": {},
   "outputs": [],
   "source": [
    "mymethod = ('IPCC 2013', 'climate change', 'GWP 100a')\n",
    "mymethod"
   ]
  },
  {
   "cell_type": "code",
   "execution_count": null,
   "metadata": {
    "scrolled": true
   },
   "outputs": [],
   "source": [
    "acts = []\n",
    "for activity in Database(\"BTC_att\"):\n",
    "        acts.append(activity['name'])\n",
    "acts.sort()\n",
    "acts"
   ]
  },
  {
   "cell_type": "markdown",
   "metadata": {},
   "source": [
    "Here the **number behind acts needs to be adapted** to fit the model being analysed (see text below for which number corresponds to which model). When the output says 'Bitcoin Network' (Tera Hashes, None, None) you have chosen the correct value."
   ]
  },
  {
   "cell_type": "code",
   "execution_count": null,
   "metadata": {},
   "outputs": [],
   "source": [
    "#Change number of acts depending on which model is run\n",
    "# 26 for attributional model, hashrate, electricity, lifetime\n",
    "# 2 for Location Global, Hydro, Coal\n",
    "# 14 for Mining Pools\n",
    "# 34 for Rauch et al.\n",
    "# 36 for Bendiksen et al.\n",
    "\n",
    "myact = Database('BTC_att').get(acts[26])\n",
    "myact"
   ]
  },
  {
   "cell_type": "code",
   "execution_count": null,
   "metadata": {},
   "outputs": [],
   "source": [
    "functional_unit = {myact: 1} \n",
    "lca = LCA(functional_unit, mymethod)\n",
    "lca.lci()\n",
    "lca.lcia()\n",
    "print(lca.score)"
   ]
  },
  {
   "cell_type": "markdown",
   "metadata": {},
   "source": [
    "The following steps **only** need to be carried out with **the attributional baseline model**. "
   ]
  },
  {
   "cell_type": "code",
   "execution_count": null,
   "metadata": {},
   "outputs": [],
   "source": [
    "#all analyzed impact categories\n",
    "mylist = [('IPCC 2013', 'climate change', 'GWP 100a'),\n",
    "         ('ReCiPe Midpoint (H)', 'climate change', 'GWP100'),\n",
    "         ('ReCiPe Midpoint (H)', 'freshwater ecotoxicity', 'FETPinf'),\n",
    "         ('ReCiPe Midpoint (H)', 'freshwater eutrophication', 'FEP'),\n",
    "         ('ReCiPe Midpoint (H)', 'human toxicity', 'HTPinf'),\n",
    "         ('ReCiPe Midpoint (H)', 'marine ecotoxicity', 'METPinf'),\n",
    "         ('ReCiPe Midpoint (H)', 'metal depletion', 'MDP'),\n",
    "         ('ReCiPe Midpoint (H)', 'ozone depletion', 'ODPinf'),\n",
    "         ('ReCiPe Midpoint (H)', 'photochemical oxidant formation', 'POFP'),\n",
    "         ('ReCiPe Midpoint (H)', 'terrestrial acidification', 'TAP100'),\n",
    "         ('ReCiPe Midpoint (H)', 'terrestrial ecotoxicity', 'TETPinf')]"
   ]
  },
  {
   "cell_type": "code",
   "execution_count": null,
   "metadata": {},
   "outputs": [],
   "source": [
    "def dolcacalc(myact, mydemand, mymethod):\n",
    "    my_fu = {myact: mydemand} \n",
    "    lca = LCA(my_fu, mymethod)\n",
    "    lca.lci()\n",
    "    lca.lcia()\n",
    "    return lca.score\n",
    "\n",
    "def getLCAresults(acts, mymethod):\n",
    "    \n",
    "    all_activities = []\n",
    "    results = []\n",
    "    for a in acts:\n",
    "        act = Database('BTC_att').get(a)\n",
    "        all_activities.append(act['name'])\n",
    "        results.append(dolcacalc(act,1,mymethod)) # 1 stays for one unit of each process\n",
    "        #print(act['name'])\n",
    "     \n",
    "    results_dict = dict(zip(all_activities, results))\n",
    "    \n",
    "    return results_dict"
   ]
  },
  {
   "cell_type": "code",
   "execution_count": null,
   "metadata": {},
   "outputs": [],
   "source": [
    "results_BTC_att = []\n",
    "for m in mylist:\n",
    "    results_all_acts = getLCAresults(acts,m) # total impact per tech\n",
    "    results_BTC_att.append(results_all_acts)"
   ]
  },
  {
   "cell_type": "code",
   "execution_count": null,
   "metadata": {},
   "outputs": [],
   "source": [
    "methods_names = []\n",
    "for m in mylist:\n",
    "    m_name = ' '.join(m)\n",
    "    methods_names.append(m_name)"
   ]
  },
  {
   "cell_type": "code",
   "execution_count": null,
   "metadata": {},
   "outputs": [],
   "source": [
    "my_output = pd.DataFrame(results_BTC_att, index=methods_names)"
   ]
  },
  {
   "cell_type": "code",
   "execution_count": null,
   "metadata": {},
   "outputs": [],
   "source": [
    "print(my_output['Bitcoin Network'])"
   ]
  },
  {
   "cell_type": "code",
   "execution_count": null,
   "metadata": {},
   "outputs": [],
   "source": [
    "my_output.to_csv('BTC-results_baseline.csv', sep = ';')"
   ]
  },
  {
   "cell_type": "markdown",
   "metadata": {},
   "source": [
    "## Uncertainty analysis (Monte Carlo simulation)"
   ]
  },
  {
   "cell_type": "markdown",
   "metadata": {},
   "source": [
    "The Monte Carlo simulation only has to be carried out for the attributional baseline model. This is the case because the Monte Carlo simulation analyses the uncertainty of the background data (ecoinvent database) and the background data is the same for all models."
   ]
  },
  {
   "cell_type": "code",
   "execution_count": null,
   "metadata": {},
   "outputs": [],
   "source": [
    "mc = MonteCarloLCA({Database('BTC_att').get('Bitcoin Network'):1000000}, mymethod) \n",
    "# important to initialize the MC simulation\n",
    "next(mc)"
   ]
  },
  {
   "cell_type": "code",
   "execution_count": null,
   "metadata": {},
   "outputs": [],
   "source": [
    "# This is the montecarlo simulation\n",
    "mc = MonteCarloLCA({Database('BTC_att').get('Bitcoin Network'):1000000}, mymethod) \n",
    "mc_results = [next(mc) for x in range(1000)]"
   ]
  },
  {
   "cell_type": "code",
   "execution_count": null,
   "metadata": {},
   "outputs": [],
   "source": [
    "from matplotlib.pylab import *\n",
    "hist(mc_results, density=True)  # From matplotlib package\n",
    "ylabel(\"Probability\")\n",
    "print(mean(mc_results))\n",
    "print(median(mc_results))\n",
    "np.exp(mean(np.log(mc_results))) \n",
    "pd.DataFrame(mc_results).describe()  # Using the pandas package"
   ]
  },
  {
   "cell_type": "code",
   "execution_count": null,
   "metadata": {},
   "outputs": [],
   "source": [
    "df = pd.DataFrame(mc_results)\n",
    "df.to_csv('MCsimulation_Att_model.csv', sep = ';')"
   ]
  },
  {
   "cell_type": "code",
   "execution_count": null,
   "metadata": {},
   "outputs": [],
   "source": []
  }
 ],
 "metadata": {
  "kernelspec": {
   "display_name": "Python 3",
   "language": "python",
   "name": "python3"
  },
  "language_info": {
   "codemirror_mode": {
    "name": "ipython",
    "version": 3
   },
   "file_extension": ".py",
   "mimetype": "text/x-python",
   "name": "python",
   "nbconvert_exporter": "python",
   "pygments_lexer": "ipython3",
   "version": "3.6.8"
  }
 },
 "nbformat": 4,
 "nbformat_minor": 2
}
