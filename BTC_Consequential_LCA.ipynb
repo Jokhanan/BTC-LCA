{
 "cells": [
  {
   "cell_type": "markdown",
   "metadata": {},
   "source": [
    "# LCA of Bitcoin Mining (consequential model)"
   ]
  },
  {
   "cell_type": "markdown",
   "metadata": {},
   "source": [
    "Initial set up"
   ]
  },
  {
   "cell_type": "code",
   "execution_count": null,
   "metadata": {},
   "outputs": [],
   "source": [
    "import pandas as pd\n",
    "import numpy as np\n",
    "from lci_to_bw2 import *\n",
    "from brightway2 import *\n",
    "from matplotlib import pyplot as plt\n",
    "import time\n",
    "when = time.strftime(\"%Y%m%d\")"
   ]
  },
  {
   "cell_type": "code",
   "execution_count": null,
   "metadata": {},
   "outputs": [],
   "source": [
    "projects.set_current('BTC_LCA')"
   ]
  },
  {
   "cell_type": "code",
   "execution_count": null,
   "metadata": {
    "scrolled": true
   },
   "outputs": [],
   "source": [
    "projects"
   ]
  },
  {
   "cell_type": "code",
   "execution_count": null,
   "metadata": {},
   "outputs": [],
   "source": [
    "#upload consequential ecoinvent v3.5 database (& change directory to find the file on your computer)\n",
    "fpei34  = \"/Users/susanne/Documents/O1a/Databases/Ecoinvent_conseq_3.5/datasets\"\n",
    " \n",
    "if 'ecoinvent 3.5 conseq' in databases:\n",
    "     print(\"Database has already been imported\")\n",
    "else:\n",
    "     ei34 = SingleOutputEcospold2Importer(fpei34, 'ecoinvent 3.5 conseq')\n",
    "     ei34.apply_strategies()\n",
    "     ei34.statistics()\n",
    " \n",
    "ei34.write_database()"
   ]
  },
  {
   "cell_type": "code",
   "execution_count": null,
   "metadata": {},
   "outputs": [],
   "source": [
    "bw2setup() # do this if its the first time only"
   ]
  },
  {
   "cell_type": "code",
   "execution_count": null,
   "metadata": {
    "scrolled": false
   },
   "outputs": [],
   "source": [
    "databases"
   ]
  },
  {
   "cell_type": "markdown",
   "metadata": {},
   "source": [
    "## Data import"
   ]
  },
  {
   "cell_type": "markdown",
   "metadata": {},
   "source": [
    "Now import the inventory. This has to be done for each scenario. From here all steps have to be **repeated for each of the three scenarios**. \n",
    "\n",
    "This means: \n",
    "1. upload sceanrio BAU\n",
    "2. carry out the LCA and the Monte Carlo simulation for the BAU scenario\n",
    "3. upload scenario technology\n",
    "4. carry out the LCA and the Monte Carlo simulation for the technology scenario\n",
    "5. upload scenario location\n",
    "6. carry out the LCA and the Monte Carlo simulation for the location scenario"
   ]
  },
  {
   "cell_type": "code",
   "execution_count": null,
   "metadata": {},
   "outputs": [],
   "source": [
    "#the .csv files should be in the same folder for easy upload\n",
    "#change name of file depending on which scenario is to be run\n",
    "BTC_data = pd.read_csv('Consequential_BAU.csv', header = 0, sep = \";\", encoding = 'utf-8-sig') \n",
    "\n",
    "# clean up \n",
    "BTC_data = BTC_data.drop(['Notes'], 1)  # remove the columns not needed\n",
    "BTC_data['Exchange uncertainty type'] = BTC_data['Exchange uncertainty type'].fillna(0).astype(int) \n",
    "\n",
    "print(BTC_data.head())\n",
    "print(BTC_data.tail())  "
   ]
  },
  {
   "cell_type": "code",
   "execution_count": null,
   "metadata": {},
   "outputs": [],
   "source": [
    "# Create a dict that can be written as database\n",
    "BTC_dict = lci_to_bw2(BTC_data)"
   ]
  },
  {
   "cell_type": "code",
   "execution_count": null,
   "metadata": {},
   "outputs": [],
   "source": [
    "# Write a bw2 database\n",
    "databases\n",
    "if 'BTC' in databases: del databases['BTC']\n",
    "BTC = Database(\"BTC\")\n",
    "BTC.write(BTC_dict)\n",
    "#[print(act) for act in BTC]"
   ]
  },
  {
   "cell_type": "markdown",
   "metadata": {},
   "source": [
    "## Static LCA"
   ]
  },
  {
   "cell_type": "markdown",
   "metadata": {},
   "source": [
    "Now these steps are related to carrying out the LCA. The steps are always conducted on the latest .csv inventory uploaded!"
   ]
  },
  {
   "cell_type": "code",
   "execution_count": null,
   "metadata": {
    "scrolled": true
   },
   "outputs": [],
   "source": [
    "acts = []\n",
    "for activity in Database(\"BTC\"):\n",
    "        acts.append(activity['name'])\n",
    "acts.sort()\n",
    "acts"
   ]
  },
  {
   "cell_type": "code",
   "execution_count": null,
   "metadata": {},
   "outputs": [],
   "source": [
    "#all analyzed impact categories\n",
    "mylist = [('IPCC 2013', 'climate change', 'GWP 100a'),\n",
    "         ('ReCiPe Midpoint (H)', 'climate change', 'GWP100'),\n",
    "         ('ReCiPe Midpoint (H)', 'freshwater ecotoxicity', 'FETPinf'),\n",
    "         ('ReCiPe Midpoint (H)', 'freshwater eutrophication', 'FEP'),\n",
    "         ('ReCiPe Midpoint (H)', 'human toxicity', 'HTPinf'),\n",
    "         ('ReCiPe Midpoint (H)', 'marine ecotoxicity', 'METPinf'),\n",
    "         ('ReCiPe Midpoint (H)', 'metal depletion', 'MDP'),\n",
    "         ('ReCiPe Midpoint (H)', 'ozone depletion', 'ODPinf'),\n",
    "         ('ReCiPe Midpoint (H)', 'photochemical oxidant formation', 'POFP'),\n",
    "         ('ReCiPe Midpoint (H)', 'terrestrial acidification', 'TAP100'),\n",
    "         ('ReCiPe Midpoint (H)', 'terrestrial ecotoxicity', 'TETPinf')]"
   ]
  },
  {
   "cell_type": "code",
   "execution_count": null,
   "metadata": {},
   "outputs": [],
   "source": [
    "mymethod = ('IPCC 2013', 'climate change', 'GWP 100a')\n",
    "mymethod"
   ]
  },
  {
   "cell_type": "markdown",
   "metadata": {},
   "source": [
    "Here the number behind acts needs to be adapted to fit the scenario being analysed (see text below for which number corresponds to which scenario). When the output says 'Bitcoin Network' (Tera Hashes, None, None) you have chosen the correct value. "
   ]
  },
  {
   "cell_type": "code",
   "execution_count": null,
   "metadata": {},
   "outputs": [],
   "source": [
    "#Change number in acts depending on which scenario\n",
    "# 26 for BAU\n",
    "# 14 Scenario 2\n",
    "# 7  Scenario 3\n",
    "myact = Database('BTC').get(acts[26]) \n",
    "myact"
   ]
  },
  {
   "cell_type": "markdown",
   "metadata": {},
   "source": [
    "This is the result using IPCC 2013 for 1 TH in kg CO2-eq."
   ]
  },
  {
   "cell_type": "code",
   "execution_count": null,
   "metadata": {
    "scrolled": true
   },
   "outputs": [],
   "source": [
    "functional_unit = {myact: 1} \n",
    "lca = LCA(functional_unit, mymethod)\n",
    "lca.lci()\n",
    "lca.lcia()\n",
    "print(lca.score)"
   ]
  },
  {
   "cell_type": "markdown",
   "metadata": {},
   "source": [
    "Everything worked so now preparing for doing this **in loop** to all activities under analysis"
   ]
  },
  {
   "cell_type": "code",
   "execution_count": null,
   "metadata": {},
   "outputs": [],
   "source": [
    "def dolcacalc(myact, mydemand, mymethod):\n",
    "    my_fu = {myact: mydemand} \n",
    "    lca = LCA(my_fu, mymethod)\n",
    "    lca.lci()\n",
    "    lca.lcia()\n",
    "    return lca.score\n",
    "\n",
    "def getLCAresults(acts, mymethod):\n",
    "    \n",
    "    all_activities = []\n",
    "    results = []\n",
    "    for a in acts:\n",
    "        act = Database('BTC').get(a)\n",
    "        all_activities.append(act['name'])\n",
    "        results.append(dolcacalc(act,1,mymethod)) # 1 stays for one unit of each process\n",
    "        #print(act['name'])\n",
    "     \n",
    "    results_dict = dict(zip(all_activities, results))\n",
    "    \n",
    "    return results_dict\n"
   ]
  },
  {
   "cell_type": "code",
   "execution_count": null,
   "metadata": {},
   "outputs": [],
   "source": [
    "results_BTC = []\n",
    "for m in mylist:\n",
    "    results_all_acts = getLCAresults(acts,m) # total impact per tech\n",
    "    results_BTC.append(results_all_acts)"
   ]
  },
  {
   "cell_type": "code",
   "execution_count": null,
   "metadata": {},
   "outputs": [],
   "source": [
    "methods_names = []\n",
    "for m in mylist:\n",
    "    m_name = ' '.join(m)\n",
    "    methods_names.append(m_name)"
   ]
  },
  {
   "cell_type": "code",
   "execution_count": null,
   "metadata": {},
   "outputs": [],
   "source": [
    "my_output = pd.DataFrame(results_BTC, index=methods_names)"
   ]
  },
  {
   "cell_type": "code",
   "execution_count": null,
   "metadata": {},
   "outputs": [],
   "source": [
    "print(my_output['Bitcoin Network'])\n"
   ]
  },
  {
   "cell_type": "code",
   "execution_count": null,
   "metadata": {},
   "outputs": [],
   "source": [
    "#Give a proper name to the file and export\n",
    "my_output.to_csv('LCA_BAU.csv', sep = ';')"
   ]
  },
  {
   "cell_type": "markdown",
   "metadata": {},
   "source": [
    "## Uncertainty analysis (Monte Carlo simulation)"
   ]
  },
  {
   "cell_type": "code",
   "execution_count": null,
   "metadata": {},
   "outputs": [],
   "source": [
    "mc = MonteCarloLCA({Database('BTC').get('Bitcoin Network'):1000000}, mymethod) \n",
    "# important to initialize the MC simulation\n",
    "next(mc)"
   ]
  },
  {
   "cell_type": "code",
   "execution_count": null,
   "metadata": {},
   "outputs": [],
   "source": [
    "# This is the Monte Carlo simulation\n",
    "mc = MonteCarloLCA({Database('BTC').get('Bitcoin Network'):1000000}, mymethod) \n",
    "mc_results = [next(mc) for x in range(1000)]"
   ]
  },
  {
   "cell_type": "code",
   "execution_count": null,
   "metadata": {},
   "outputs": [],
   "source": [
    "from matplotlib.pylab import *\n",
    "hist(mc_results, density=True)  # From matplotlib package\n",
    "ylabel(\"Probability\")\n",
    "print(mean(mc_results))\n",
    "print(median(mc_results))\n",
    "np.exp(mean(np.log(mc_results))) # geometric mean VERY close to 120\n",
    "pd.DataFrame(mc_results).describe()  # Using the pandas package"
   ]
  },
  {
   "cell_type": "code",
   "execution_count": null,
   "metadata": {},
   "outputs": [],
   "source": [
    "#Give a proper name to the file and export\n",
    "df = pd.DataFrame(mc_results)\n",
    "df.to_csv('MCsimulation_BAU.csv', sep = ';')"
   ]
  },
  {
   "cell_type": "code",
   "execution_count": null,
   "metadata": {},
   "outputs": [],
   "source": []
  }
 ],
 "metadata": {
  "kernelspec": {
   "display_name": "Python 3",
   "language": "python",
   "name": "python3"
  },
  "language_info": {
   "codemirror_mode": {
    "name": "ipython",
    "version": 3
   },
   "file_extension": ".py",
   "mimetype": "text/x-python",
   "name": "python",
   "nbconvert_exporter": "python",
   "pygments_lexer": "ipython3",
   "version": "3.6.8"
  }
 },
 "nbformat": 4,
 "nbformat_minor": 2
}
